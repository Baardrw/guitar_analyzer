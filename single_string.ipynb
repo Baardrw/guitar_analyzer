{
 "cells": [
  {
   "cell_type": "code",
   "execution_count": 7,
   "metadata": {},
   "outputs": [],
   "source": [
    "import librosa \n",
    "import numpy as np\n",
    "import os\n",
    "import matplotlib.pyplot as plt\n",
    "from typing import List, Tuple\n",
    "import scipy"
   ]
  },
  {
   "cell_type": "markdown",
   "metadata": {},
   "source": [
    "# Plotting All Strings"
   ]
  },
  {
   "cell_type": "code",
   "execution_count": null,
   "metadata": {},
   "outputs": [],
   "source": [
    "def plot_spectrum(signal, name, sr, max = 500):\n",
    "    freqs, magnitudes = get_spectrum(signal, sr)\n",
    "    # Discard negative frequencies\n",
    "    freqs = freqs[:len(freqs) // 2]\n",
    "    magnitudes = magnitudes[:len(magnitudes) // 2]\n",
    "    \n",
    "    norm_magnitudes = librosa.util.normalize(magnitudes)\n",
    "    \n",
    "    N = len(norm_magnitudes)\n",
    "    # Plot the FFT frequencies vs. norm_magnitudes\n",
    "    plt.figure(figsize=(10, 6))\n",
    "    plt.plot(freqs[:N // 2], norm_magnitudes[:N // 2])  # Plot the positive frequencies\n",
    "    plt.xlim(0, max)\n",
    "    plt.title(\"FFT of \" + name)\n",
    "    plt.xlabel(\"Frequency (Hz)\")\n",
    "    plt.ylabel(\"Magnitude\")\n",
    "    plt.grid(True)\n",
    "    plt.show()\n",
    "    # Find the index of the maximum magnitude\n",
    "    fundamental_freq = f0(freqs, norm_magnitudes, sr)\n",
    "    print(\"Frequency:\", fundamental_freq)\n",
    "    \n",
    "    print(\"Note: \", librosa.hz_to_note(fundamental_freq))\n",
    "\n",
    "def get_spectrum(signal, sr) -> Tuple[np.ndarray, np.ndarray]:\n",
    "    \"\"\" \n",
    "    Returns:\n",
    "        - freqs: the frequencies corresponding to the magnitudes\n",
    "        - magnitudes: the magnitudes of the FFT\n",
    "    \"\"\"\n",
    "    fhat = np.fft.fft(signal)\n",
    "    magnitudes = np.abs(fhat)\n",
    "\n",
    "    # Calculate the corresponding frequencies\n",
    "    N = len(magnitudes)\n",
    "    freqs = np.fft.fftfreq(N, 1.0 / sr)\n",
    "    return freqs, magnitudes\n",
    "\n",
    "def f0(freqs, norm_magnitudes, sr) -> np.ndarray:\n",
    "    # Find a set of possible fundamental frequencies by finding peaks in the spectrum\n",
    "    fundamental_freqs = scipy.signal.find_peaks(norm_magnitudes, height=0.2, threshold=0.2)[0]\n",
    "    N = len(norm_magnitudes)\n",
    "    \n",
    "    hps = np.ones(len(fundamental_freqs))\n",
    "    for i in range(len(fundamental_freqs)):\n",
    "        for r in range(2, 9):\n",
    "            if fundamental_freqs[i] * r >= N:\n",
    "                break\n",
    "            hps[i] *= norm_magnitudes[fundamental_freqs[i] * r]\n",
    "    \n",
    "            \n",
    "    return freqs[fundamental_freqs[np.argmax(hps)]]\n",
    "\n",
    "files = os.listdir(\"recordings_wav\")\n",
    "for file in files:\n",
    "    signal, sr = librosa.load(\"recordings_wav/\" + file)\n",
    "    plot_spectrum(signal, file, sr)\n",
    "        "
   ]
  },
  {
   "cell_type": "markdown",
   "metadata": {},
   "source": [
    "# RT note Identification\n",
    "\n",
    "- Listen to the audio stream\n",
    "- Sample the audio stream\n",
    "- analyze the samples audio"
   ]
  },
  {
   "cell_type": "code",
   "execution_count": 9,
   "metadata": {},
   "outputs": [],
   "source": [
    "import sounddevice as sd\n",
    "from scipy.io.wavfile import write\n",
    "import noisereduce as nr"
   ]
  },
  {
   "cell_type": "code",
   "execution_count": null,
   "metadata": {},
   "outputs": [],
   "source": [
    "# def sample(sr, time) -> np.array:\n",
    "#     recording = sd.rec(int(time * sr), samplerate=sr, channels=1, dtype=np.float64)\n",
    "#     sd.wait()\n",
    "#     # write to wav file\n",
    "#     write(\"sample.wav\", sr, recording)\n",
    "#     load, sr = librosa.load(\"sample.wav\")\n",
    "#     reduced_noise = nr.reduce_noise(y=load, sr= sr)\n",
    "#     write(\"sample.wav\", sr, reduced_noise)\n",
    "    \n",
    "# sample(22050, 4)\n",
    "\n",
    "signal, sr = librosa.load(\"sample.wav\")\n",
    "librosa.display.waveshow(signal, sr=sr)\n",
    "onsets = librosa.onset.onset_detect(y=signal, sr=sr)\n",
    "times = librosa.frames_to_time(onsets)\n",
    "# plot the onsets\n",
    "plt.vlines(times, -1, 1, color=\"r\")\n",
    "\n",
    "note = signal\n",
    "note_db = librosa.amplitude_to_db(note)\n",
    "\n",
    "plot_spectrum(signal, \"sample\", sr)\n",
    "    \n"
   ]
  }
 ],
 "metadata": {
  "kernelspec": {
   "display_name": "venv",
   "language": "python",
   "name": "python3"
  },
  "language_info": {
   "codemirror_mode": {
    "name": "ipython",
    "version": 3
   },
   "file_extension": ".py",
   "mimetype": "text/x-python",
   "name": "python",
   "nbconvert_exporter": "python",
   "pygments_lexer": "ipython3",
   "version": "3.8.10"
  }
 },
 "nbformat": 4,
 "nbformat_minor": 2
}
