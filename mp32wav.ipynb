{
 "cells": [
  {
   "cell_type": "code",
   "execution_count": 4,
   "metadata": {},
   "outputs": [],
   "source": [
    "# import required modules \n",
    "import os\n",
    "from pydub import AudioSegment \n",
    "\n",
    "\n",
    "\n",
    "files = os.listdir(\"recordings_mp3\")\n",
    "for file in files:\n",
    "    # convert mp3 file to wav file \n",
    "    sound = AudioSegment.from_mp3(f'recordings_mp3/{file}') \n",
    "    sound.export(f'recordings_wav/{file.split(sep=\".\")[0]}.wav', format=\"wav\") \n"
   ]
  }
 ],
 "metadata": {
  "kernelspec": {
   "display_name": "venv",
   "language": "python",
   "name": "python3"
  },
  "language_info": {
   "codemirror_mode": {
    "name": "ipython",
    "version": 3
   },
   "file_extension": ".py",
   "mimetype": "text/x-python",
   "name": "python",
   "nbconvert_exporter": "python",
   "pygments_lexer": "ipython3",
   "version": "3.8.10"
  }
 },
 "nbformat": 4,
 "nbformat_minor": 2
}
